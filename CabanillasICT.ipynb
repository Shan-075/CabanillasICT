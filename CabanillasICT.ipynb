{
 "cells": [
  {
   "cell_type": "code",
   "execution_count": 2,
   "id": "8764c4e5-fd33-46e8-9d9e-84597ef7c13f",
   "metadata": {},
   "outputs": [
    {
     "name": "stdout",
     "output_type": "stream",
     "text": [
      "Matrix 1:\n",
      "[[19  3  3]\n",
      " [ 8  8  1]]\n",
      "\n",
      "Matrix 2:\n",
      "[[2 0 2]\n",
      " [4 0 7]]\n",
      "\n",
      "Matrix 3 (Matrix1 + Matrix2):\n",
      "[[21  3  5]\n",
      " [12  8  8]]\n",
      "\n",
      "Matrix 4 (Matrix1 * 2):\n",
      "[[38  6  6]\n",
      " [16 16  2]]\n",
      "\n",
      "Matrix 5 (Transpose of Matrix2):\n",
      "[[2 4]\n",
      " [0 0]\n",
      " [2 7]]\n",
      "\n",
      "Matrix 6 (Matrix3 multiplied by Matrix5):\n",
      "[[ 52 119]\n",
      " [ 40 104]]\n",
      "\n",
      "Sum of all elements in Matrix3: 57\n",
      "\n",
      "Matrix 7 (2x3 Zero Matrix):\n",
      "[[0 0 0]\n",
      " [0 0 0]]\n"
     ]
    }
   ],
   "source": [
    "matrix1 = np.array([[19, 3, 3], [8, 8, 1]])\n",
    "\n",
    "\n",
    "matrix2 = np.array([[2, 0, 2], [4, 0, 7]])\n",
    "\n",
    "\n",
    "print(\"Matrix 1:\")\n",
    "print(matrix1)\n",
    "\n",
    "print(\"\\nMatrix 2:\")\n",
    "print(matrix2)\n",
    "\n",
    "\n",
    "matrix3 = matrix1 + matrix2\n",
    "\n",
    "print(\"\\nMatrix 3 (Matrix1 + Matrix2):\")\n",
    "print(matrix3)\n",
    "\n",
    "matrix4 = matrix1 * 2\n",
    "\n",
    "print(\"\\nMatrix 4 (Matrix1 * 2):\")\n",
    "print(matrix4)\n",
    "\n",
    "\n",
    "matrix5 = matrix2.T\n",
    "\n",
    "print(\"\\nMatrix 5 (Transpose of Matrix2):\")\n",
    "print(matrix5)\n",
    "\n",
    "\n",
    "matrix6 = np.dot(matrix3, matrix5)\n",
    "\n",
    "print(\"\\nMatrix 6 (Matrix3 multiplied by Matrix5):\")\n",
    "print(matrix6)\n",
    "\n",
    "\n",
    "sum_matrix3 = np.sum(matrix3)\n",
    "\n",
    "print(\"\\nSum of all elements in Matrix3:\", sum_matrix3)\n",
    "\n",
    "\n",
    "matrix7 = np.zeros((2, 3), dtype=int)\n",
    "\n",
    "print(\"\\nMatrix 7 (2x3 Zero Matrix):\")\n",
    "print(matrix7) \n"
   ]
  },
  {
   "cell_type": "code",
   "execution_count": null,
   "id": "2acc8b7c-ce7e-44ee-bc5e-dded7c239a50",
   "metadata": {},
   "outputs": [],
   "source": []
  }
 ],
 "metadata": {
  "kernelspec": {
   "display_name": "Python 3 (ipykernel)",
   "language": "python",
   "name": "python3"
  },
  "language_info": {
   "codemirror_mode": {
    "name": "ipython",
    "version": 3
   },
   "file_extension": ".py",
   "mimetype": "text/x-python",
   "name": "python",
   "nbconvert_exporter": "python",
   "pygments_lexer": "ipython3",
   "version": "3.12.7"
  }
 },
 "nbformat": 4,
 "nbformat_minor": 5
}
