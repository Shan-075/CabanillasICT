{
 "cells": [
  {
   "cell_type": "code",
   "execution_count": null,
   "id": "2877ceb1",
   "metadata": {},
   "outputs": [],
   "source": [
    "\n",
    "# Auto-install required libraries if not already installed\n",
    "import subprocess\n",
    "import sys\n",
    "\n",
    "def install(package):\n",
    "    subprocess.check_call([sys.executable, \"-m\", \"pip\", \"install\", package])\n",
    "\n",
    "required_packages = [\"numpy\", \"pandas\", \"scipy\", \"statsmodels\", \"matplotlib\", \"seaborn\"]\n",
    "for package in required_packages:\n",
    "    try:\n",
    "        __import__(package)\n",
    "    except ImportError:\n",
    "        install(package)\n"
   ]
  },
  {
   "cell_type": "code",
   "execution_count": null,
   "id": "b034efd1",
   "metadata": {},
   "outputs": [],
   "source": [
    "# Motorcycle Data Analysis Project"
   ]
  },
  {
   "cell_type": "code",
   "execution_count": null,
   "id": "0048c03b",
   "metadata": {},
   "outputs": [],
   "source": [
    "## 1. Data Creation and Cleaning"
   ]
  },
  {
   "cell_type": "code",
   "execution_count": null,
   "id": "60597f39",
   "metadata": {},
   "outputs": [],
   "source": [
    "import numpy as np\n",
    "import pandas as pd\n",
    "import random"
   ]
  },
  {
   "cell_type": "code",
   "execution_count": null,
   "id": "7789aa91",
   "metadata": {},
   "outputs": [],
   "source": [
    "# Set seed for reproducibility\n",
    "np.random.seed(42)"
   ]
  },
  {
   "cell_type": "code",
   "execution_count": null,
   "id": "86bce6db",
   "metadata": {},
   "outputs": [],
   "source": [
    "# Motorcycle types and price ranges\n",
    "motorcycle_types = {\n",
    "    'Standard': (4.19e4, 3e5),\n",
    "    'Cruiser': (8.59e4, 4e6),\n",
    "    'Sport': (1.56e5, 1.37e6),\n",
    "    'Touring': (4.99e5, 2.44e6),\n",
    "    'Off-Road': (8.88e4, 7.7e5),\n",
    "    'Underbone': (2.99e4, 4e6),\n",
    "    'Adventure': (6.9e4, 1.795e6),\n",
    "    'Scooter': (6.69e4, 8.49e5),\n",
    "    'Dual-Sport': (2.19e5, 7.95e5),\n",
    "    'Cafe Racer': (1.75e5, 1.135e6)\n",
    "}"
   ]
  },
  {
   "cell_type": "code",
   "execution_count": null,
   "id": "64d6e86b",
   "metadata": {},
   "outputs": [],
   "source": [
    "n_samples = 120\n",
    "data = []"
   ]
  },
  {
   "cell_type": "code",
   "execution_count": null,
   "id": "43e22bb0",
   "metadata": {},
   "outputs": [],
   "source": [
    "for _ in range(n_samples):\n",
    "    m_type = random.choice(list(motorcycle_types.keys()))\n",
    "    price_min, price_max = motorcycle_types[m_type]\n",
    "    price = np.random.uniform(price_min, price_max)\n",
    "    engine_size = np.random.normal(loc=600, scale=200)\n",
    "    horsepower = np.random.normal(loc=engine_size / 10, scale=5)\n",
    "    weight = np.random.normal(loc=180, scale=30)\n",
    "    fuel_efficiency = np.random.normal(loc=30 - engine_size / 100, scale=2)\n",
    "    data.append([m_type, price, horsepower, engine_size, weight, fuel_efficiency])"
   ]
  },
  {
   "cell_type": "code",
   "execution_count": null,
   "id": "534b7a82",
   "metadata": {},
   "outputs": [],
   "source": [
    "df = pd.DataFrame(data, columns=[\n",
    "    'Type', 'Price', 'Horsepower', 'Engine_Size', 'Weight', 'Fuel_Efficiency'\n",
    "])"
   ]
  },
  {
   "cell_type": "code",
   "execution_count": null,
   "id": "d948b1ea",
   "metadata": {},
   "outputs": [],
   "source": [
    "# Clean data\n",
    "df = df.dropna()\n",
    "df = df[df['Price'] > 0]\n",
    "df = df[df['Engine_Size'] > 50]"
   ]
  },
  {
   "cell_type": "code",
   "execution_count": null,
   "id": "0c9f5ed2",
   "metadata": {},
   "outputs": [],
   "source": [
    "print(\"Cleaned data sample:\")\n",
    "print(df.head())\n",
    "print(f\"Total clean records: {len(df)}\")"
   ]
  },
  {
   "cell_type": "code",
   "execution_count": null,
   "id": "257f0d68",
   "metadata": {},
   "outputs": [],
   "source": [
    "\n",
    "## 2. NumPy Operations"
   ]
  },
  {
   "cell_type": "code",
   "execution_count": null,
   "id": "bb1d6285",
   "metadata": {},
   "outputs": [],
   "source": [
    "# 1. Mean price\n",
    "mean_price = np.mean(df['Price'])"
   ]
  },
  {
   "cell_type": "code",
   "execution_count": null,
   "id": "100b03d1",
   "metadata": {},
   "outputs": [],
   "source": [
    "# 2. Standard deviation of engine size\n",
    "std_engine = np.std(df['Engine_Size'])"
   ]
  },
  {
   "cell_type": "code",
   "execution_count": null,
   "id": "2b06f9fb",
   "metadata": {},
   "outputs": [],
   "source": [
    "# 3. Normalize horsepower\n",
    "normalized_hp = (df['Horsepower'] - df['Horsepower'].mean()) / df['Horsepower'].std()"
   ]
  },
  {
   "cell_type": "code",
   "execution_count": null,
   "id": "ed46a59c",
   "metadata": {},
   "outputs": [],
   "source": [
    "# 4. Filter motorcycles with above-average weight\n",
    "heavy_bikes = df[df['Weight'] > np.mean(df['Weight'])]"
   ]
  },
  {
   "cell_type": "code",
   "execution_count": null,
   "id": "35663ab6",
   "metadata": {},
   "outputs": [],
   "source": [
    "# 5. Adjust prices for 5% inflation\n",
    "inflated_prices = df['Price'] * 1.05"
   ]
  },
  {
   "cell_type": "code",
   "execution_count": null,
   "id": "d5e1aec7",
   "metadata": {},
   "outputs": [],
   "source": [
    "print(\"\\nNumPy operations complete.\")\n",
    "print(f\"Mean Price: {mean_price:.2f}\")\n",
    "print(f\"Standard Deviation of Engine Size: {std_engine:.2f}\")\n",
    "print(f\"Inflated Price Sample: {inflated_prices.head()}\")"
   ]
  },
  {
   "cell_type": "code",
   "execution_count": null,
   "id": "6459b57d",
   "metadata": {},
   "outputs": [],
   "source": [
    "\n",
    "## 3. SciPy Operation"
   ]
  },
  {
   "cell_type": "code",
   "execution_count": null,
   "id": "2828ed31",
   "metadata": {},
   "outputs": [],
   "source": [
    "from scipy.stats import pearsonr\n",
    "corr, p_value = pearsonr(df['Price'], df['Horsepower'])"
   ]
  },
  {
   "cell_type": "code",
   "execution_count": null,
   "id": "3835d1f0",
   "metadata": {},
   "outputs": [],
   "source": [
    "print(\"\\nSciPy Pearson Correlation:\")\n",
    "print(f\"Correlation: {corr:.2f}, P-value: {p_value:.4f}\")"
   ]
  },
  {
   "cell_type": "code",
   "execution_count": null,
   "id": "6bfca18b",
   "metadata": {},
   "outputs": [],
   "source": [
    "\n",
    "## 4. Pandas Operation"
   ]
  },
  {
   "cell_type": "code",
   "execution_count": null,
   "id": "9434dbdd",
   "metadata": {},
   "outputs": [],
   "source": [
    "avg_hp_by_type = df.groupby('Type')['Horsepower'].mean()\n",
    "print(\"\\nAverage Horsepower by Motorcycle Type:\")\n",
    "print(avg_hp_by_type)"
   ]
  },
  {
   "cell_type": "code",
   "execution_count": null,
   "id": "27653b3a",
   "metadata": {},
   "outputs": [],
   "source": [
    "\n",
    "## 5. Statsmodels Regression"
   ]
  },
  {
   "cell_type": "code",
   "execution_count": null,
   "id": "389ad16a",
   "metadata": {},
   "outputs": [],
   "source": [
    "import statsmodels.api as sm"
   ]
  },
  {
   "cell_type": "code",
   "execution_count": null,
   "id": "23961393",
   "metadata": {},
   "outputs": [],
   "source": [
    "X = sm.add_constant(df['Horsepower'])  # adds intercept\n",
    "model = sm.OLS(df['Price'], X).fit()\n",
    "print(\"\\nStatsmodels Linear Regression Summary:\")\n",
    "print(model.summary())"
   ]
  },
  {
   "cell_type": "code",
   "execution_count": null,
   "id": "df33640f",
   "metadata": {},
   "outputs": [],
   "source": [
    "\n",
    "## 6. Visualizations"
   ]
  },
  {
   "cell_type": "code",
   "execution_count": null,
   "id": "28bb6838",
   "metadata": {},
   "outputs": [],
   "source": [
    "import matplotlib.pyplot as plt\n",
    "import seaborn as sns"
   ]
  },
  {
   "cell_type": "code",
   "execution_count": null,
   "id": "dddfd512",
   "metadata": {},
   "outputs": [],
   "source": [
    "# Boxplot of Price by Type\n",
    "plt.figure(figsize=(12,6))\n",
    "sns.boxplot(data=df, x='Type', y='Price')\n",
    "plt.xticks(rotation=45)\n",
    "plt.title(\"Boxplot of Price by Motorcycle Type\")\n",
    "plt.tight_layout()\n",
    "plt.show()"
   ]
  },
  {
   "cell_type": "code",
   "execution_count": null,
   "id": "a81b1871",
   "metadata": {},
   "outputs": [],
   "source": [
    "# Histogram of Fuel Efficiency\n",
    "plt.figure(figsize=(8,5))\n",
    "sns.histplot(df['Fuel_Efficiency'], kde=True)\n",
    "plt.title(\"Distribution of Fuel Efficiency\")\n",
    "plt.show()"
   ]
  },
  {
   "cell_type": "code",
   "execution_count": null,
   "id": "6d1ad3fa",
   "metadata": {},
   "outputs": [],
   "source": [
    "# Regression Plot: Price vs Horsepower\n",
    "plt.figure(figsize=(8,5))\n",
    "sns.regplot(x='Horsepower', y='Price', data=df, line_kws={\"color\":\"red\"})\n",
    "plt.title(\"Correlation between Horsepower and Price\")\n",
    "plt.show()"
   ]
  }
 ],
 "metadata": {},
 "nbformat": 4,
 "nbformat_minor": 5
}